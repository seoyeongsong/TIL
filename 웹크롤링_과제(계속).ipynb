{
  "nbformat": 4,
  "nbformat_minor": 0,
  "metadata": {
    "colab": {
      "name": "웹크롤링_과제(계속)",
      "version": "0.3.2",
      "provenance": [],
      "collapsed_sections": [],
      "include_colab_link": true
    },
    "kernelspec": {
      "name": "python3",
      "display_name": "Python 3"
    }
  },
  "cells": [
    {
      "cell_type": "markdown",
      "metadata": {
        "id": "view-in-github",
        "colab_type": "text"
      },
      "source": [
        "[View in Colaboratory](https://colab.research.google.com/github/seoyeongsong/TIL/blob/master/%EC%9B%B9%ED%81%AC%EB%A1%A4%EB%A7%81_%EA%B3%BC%EC%A0%9C(%EA%B3%84%EC%86%8D).ipynb)"
      ]
    },
    {
      "metadata": {
        "id": "0wfk3e6HujsT",
        "colab_type": "text"
      },
      "cell_type": "markdown",
      "source": [
        "# 가톨릭대학교 서울성모병원"
      ]
    },
    {
      "metadata": {
        "id": "PQfaPuyIu1Ad",
        "colab_type": "code",
        "colab": {}
      },
      "cell_type": "code",
      "source": [
        "https://www.cmcseoul.or.kr/robots.txt\n",
        "  \n",
        "User-agent: *\n",
        "# 모든 사용자에 대하여 문서 접근을 허용\n",
        "\n"
      ],
      "execution_count": 0,
      "outputs": []
    },
    {
      "metadata": {
        "id": "Ba4RDdXAbZb1",
        "colab_type": "code",
        "colab": {
          "base_uri": "https://localhost:8080/",
          "height": 71
        },
        "outputId": "69b099c1-fa77-41f1-c99e-b0454dec4b0b"
      },
      "cell_type": "code",
      "source": [
        "!pip install html5lib\n",
        "# html5lib 를 설치"
      ],
      "execution_count": 0,
      "outputs": [
        {
          "output_type": "stream",
          "text": [
            "Requirement already satisfied: html5lib in /usr/local/lib/python3.6/dist-packages (1.0.1)\n",
            "Requirement already satisfied: webencodings in /usr/local/lib/python3.6/dist-packages (from html5lib) (0.5.1)\n",
            "Requirement already satisfied: six>=1.9 in /usr/local/lib/python3.6/dist-packages (from html5lib) (1.11.0)\n"
          ],
          "name": "stdout"
        }
      ]
    },
    {
      "metadata": {
        "id": "LMQD3uARbjVM",
        "colab_type": "code",
        "colab": {}
      },
      "cell_type": "code",
      "source": [
        "from urllib import request\n",
        "# urllib에서 request module을 부른다."
      ],
      "execution_count": 0,
      "outputs": []
    },
    {
      "metadata": {
        "id": "km1rf5NqjUMu",
        "colab_type": "code",
        "colab": {}
      },
      "cell_type": "code",
      "source": [
        "import html5lib\n",
        "# html5lib 를 불러온다.\n",
        "# html5lib는 python의 라이브러리로 html을 parsing할 때 사용한다."
      ],
      "execution_count": 0,
      "outputs": []
    },
    {
      "metadata": {
        "id": "ru7vJoB-jWe-",
        "colab_type": "code",
        "colab": {
          "base_uri": "https://localhost:8080/",
          "height": 35
        },
        "outputId": "488aca59-cc05-4346-95ae-f007fec39a17"
      },
      "cell_type": "code",
      "source": [
        "url = \"https://www.cmcseoul.or.kr/page/main\"\n",
        "# url은 서울성모병원 주소, 프로토콜은 http\n",
        "# 애란선생님께 자동으로 페이지가 넘어갈 때 url을 달리 해야함을 배웠다.\n",
        "with request.urlopen(url)  as f:\n",
        "# request.urlopen(url)이 만든 자원을 function에 할당하고 다 쓰면 자원 사용을 해제한다.\n",
        "  html = f.read().decode('utf-8')\n",
        "  #html을 'utf-8'의 언어로 디코딩한다.\n",
        "\n",
        "html5lib.parse(html)\n",
        "# 결과로 element를 볼 수 있다."
      ],
      "execution_count": 0,
      "outputs": [
        {
          "output_type": "execute_result",
          "data": {
            "text/plain": [
              "<Element '{http://www.w3.org/1999/xhtml}html' at 0x7f46023939f8>"
            ]
          },
          "metadata": {
            "tags": []
          },
          "execution_count": 4
        }
      ]
    },
    {
      "metadata": {
        "id": "DUerrOVBdPm9",
        "colab_type": "code",
        "colab": {
          "base_uri": "https://localhost:8080/",
          "height": 971
        },
        "outputId": "140ed069-2014-49cc-9d95-8bbddff5c11a"
      },
      "cell_type": "code",
      "source": [
        "dom = html5lib.parse(html)\n",
        "# element를 dom에 대입한다.\n",
        "dir(dom)\n",
        "# 사용할 수 있는 함수들을 알아보자. (under-bar는 제외하고 나머지를 고려한다.)"
      ],
      "execution_count": 0,
      "outputs": [
        {
          "output_type": "execute_result",
          "data": {
            "text/plain": [
              "['__class__',\n",
              " '__copy__',\n",
              " '__deepcopy__',\n",
              " '__delattr__',\n",
              " '__delitem__',\n",
              " '__dir__',\n",
              " '__doc__',\n",
              " '__eq__',\n",
              " '__format__',\n",
              " '__ge__',\n",
              " '__getattribute__',\n",
              " '__getitem__',\n",
              " '__getstate__',\n",
              " '__gt__',\n",
              " '__hash__',\n",
              " '__init__',\n",
              " '__init_subclass__',\n",
              " '__le__',\n",
              " '__len__',\n",
              " '__lt__',\n",
              " '__ne__',\n",
              " '__new__',\n",
              " '__reduce__',\n",
              " '__reduce_ex__',\n",
              " '__repr__',\n",
              " '__setattr__',\n",
              " '__setitem__',\n",
              " '__setstate__',\n",
              " '__sizeof__',\n",
              " '__str__',\n",
              " '__subclasshook__',\n",
              " 'append',\n",
              " 'attrib',\n",
              " 'clear',\n",
              " 'extend',\n",
              " 'find',\n",
              " 'findall',\n",
              " 'findtext',\n",
              " 'get',\n",
              " 'getchildren',\n",
              " 'getiterator',\n",
              " 'insert',\n",
              " 'items',\n",
              " 'iter',\n",
              " 'iterfind',\n",
              " 'itertext',\n",
              " 'keys',\n",
              " 'makeelement',\n",
              " 'remove',\n",
              " 'set',\n",
              " 'tag',\n",
              " 'tail',\n",
              " 'text']"
            ]
          },
          "metadata": {
            "tags": []
          },
          "execution_count": 5
        }
      ]
    },
    {
      "metadata": {
        "id": "Ohk3X5gBxeE8",
        "colab_type": "code",
        "colab": {
          "base_uri": "https://localhost:8080/",
          "height": 53
        },
        "outputId": "0ff9b1e3-1681-4bcd-8ffb-146b7a1700fd"
      },
      "cell_type": "code",
      "source": [
        "dom.getchildren()\n",
        "# getchildren으로 dom이 가지는 element를 찾아보니 head와 body 2개가 존재한다."
      ],
      "execution_count": 0,
      "outputs": [
        {
          "output_type": "execute_result",
          "data": {
            "text/plain": [
              "[<Element '{http://www.w3.org/1999/xhtml}head' at 0x7f4601df5098>,\n",
              " <Element '{http://www.w3.org/1999/xhtml}body' at 0x7f4601e02688>]"
            ]
          },
          "metadata": {
            "tags": []
          },
          "execution_count": 6
        }
      ]
    },
    {
      "metadata": {
        "id": "4xsB1T2hxns2",
        "colab_type": "code",
        "colab": {
          "base_uri": "https://localhost:8080/",
          "height": 935
        },
        "outputId": "7255aed8-c2fb-43ef-d256-c1da2421e2f6"
      },
      "cell_type": "code",
      "source": [
        "head = dom.getchildren()[0]\n",
        "\n",
        "head.getchildren()\n",
        "# head의 element를 찾아보면 매우 많은 element가 존재함을 알 수 있다.\n",
        "# 이 중에 index 2에 title이 존재함을 알 수 있다."
      ],
      "execution_count": 0,
      "outputs": [
        {
          "output_type": "execute_result",
          "data": {
            "text/plain": [
              "[<Element '{http://www.w3.org/1999/xhtml}meta' at 0x7f4601df5188>,\n",
              " <Element '{http://www.w3.org/1999/xhtml}meta' at 0x7f4601df5228>,\n",
              " <Element '{http://www.w3.org/1999/xhtml}title' at 0x7f4601df52c8>,\n",
              " <Element '{http://www.w3.org/1999/xhtml}link' at 0x7f4601df53b8>,\n",
              " <Element '{http://www.w3.org/1999/xhtml}link' at 0x7f4601df54a8>,\n",
              " <Element '{http://www.w3.org/1999/xhtml}link' at 0x7f4601df5548>,\n",
              " <Element '{http://www.w3.org/1999/xhtml}link' at 0x7f4601df5638>,\n",
              " <Element '{http://www.w3.org/1999/xhtml}script' at 0x7f4601df56d8>,\n",
              " <Element '{http://www.w3.org/1999/xhtml}script' at 0x7f4601df5778>,\n",
              " <Element '{http://www.w3.org/1999/xhtml}script' at 0x7f4601df5868>,\n",
              " <Element '{http://www.w3.org/1999/xhtml}script' at 0x7f4601df5958>,\n",
              " <Element '{http://www.w3.org/1999/xhtml}script' at 0x7f4601df59f8>,\n",
              " <Element '{http://www.w3.org/1999/xhtml}script' at 0x7f4601df5a98>,\n",
              " <Element '{http://www.w3.org/1999/xhtml}script' at 0x7f4601df5b88>,\n",
              " <Element '{http://www.w3.org/1999/xhtml}script' at 0x7f4601df5c28>,\n",
              " <Element '{http://www.w3.org/1999/xhtml}script' at 0x7f4601df5cc8>,\n",
              " <Element '{http://www.w3.org/1999/xhtml}script' at 0x7f4601df5d68>,\n",
              " <Element '{http://www.w3.org/1999/xhtml}script' at 0x7f4601df5e58>,\n",
              " <Element '{http://www.w3.org/1999/xhtml}script' at 0x7f4601df5f48>,\n",
              " <Element '{http://www.w3.org/1999/xhtml}script' at 0x7f4601dff048>,\n",
              " <Element '{http://www.w3.org/1999/xhtml}script' at 0x7f4601dff138>,\n",
              " <Element '{http://www.w3.org/1999/xhtml}meta' at 0x7f4601dff1d8>,\n",
              " <Element '{http://www.w3.org/1999/xhtml}meta' at 0x7f4601dff278>,\n",
              " <Element '{http://www.w3.org/1999/xhtml}meta' at 0x7f4601dff318>,\n",
              " <Element '{http://www.w3.org/1999/xhtml}meta' at 0x7f4601dff3b8>,\n",
              " <Element '{http://www.w3.org/1999/xhtml}meta' at 0x7f4601dff458>,\n",
              " <Element '{http://www.w3.org/1999/xhtml}script' at 0x7f4601dff4f8>,\n",
              " <Element <function Comment at 0x7f46023ffd90> at 0x7f4601dff548>,\n",
              " <Element '{http://www.w3.org/1999/xhtml}script' at 0x7f4601dff5e8>,\n",
              " <Element '{http://www.w3.org/1999/xhtml}script' at 0x7f4601dff6d8>,\n",
              " <Element '{http://www.w3.org/1999/xhtml}script' at 0x7f4601dff7c8>,\n",
              " <Element '{http://www.w3.org/1999/xhtml}script' at 0x7f4602aea598>,\n",
              " <Element '{http://www.w3.org/1999/xhtml}script' at 0x7f4601dff908>,\n",
              " <Element '{http://www.w3.org/1999/xhtml}script' at 0x7f4601dff9a8>,\n",
              " <Element '{http://www.w3.org/1999/xhtml}script' at 0x7f4601dffa48>,\n",
              " <Element '{http://www.w3.org/1999/xhtml}script' at 0x7f4601dffae8>,\n",
              " <Element '{http://www.w3.org/1999/xhtml}script' at 0x7f4601dffbd8>,\n",
              " <Element '{http://www.w3.org/1999/xhtml}script' at 0x7f4601dffcc8>,\n",
              " <Element '{http://www.w3.org/1999/xhtml}script' at 0x7f4601dffdb8>,\n",
              " <Element '{http://www.w3.org/1999/xhtml}script' at 0x7f4601dffea8>,\n",
              " <Element '{http://www.w3.org/1999/xhtml}script' at 0x7f4601dfff98>,\n",
              " <Element '{http://www.w3.org/1999/xhtml}script' at 0x7f4601e02098>,\n",
              " <Element '{http://www.w3.org/1999/xhtml}script' at 0x7f4601e02138>,\n",
              " <Element '{http://www.w3.org/1999/xhtml}script' at 0x7f4601e021d8>,\n",
              " <Element '{http://www.w3.org/1999/xhtml}script' at 0x7f4601e02278>,\n",
              " <Element <function Comment at 0x7f46023ffd90> at 0x7f4601e02318>,\n",
              " <Element '{http://www.w3.org/1999/xhtml}script' at 0x7f4601e02368>,\n",
              " <Element '{http://www.w3.org/1999/xhtml}script' at 0x7f4601e02408>,\n",
              " <Element '{http://www.w3.org/1999/xhtml}style' at 0x7f4601e024a8>,\n",
              " <Element '{http://www.w3.org/1999/xhtml}link' at 0x7f4601e02548>,\n",
              " <Element '{http://www.w3.org/1999/xhtml}script' at 0x7f4601e025e8>]"
            ]
          },
          "metadata": {
            "tags": []
          },
          "execution_count": 7
        }
      ]
    },
    {
      "metadata": {
        "id": "9FYkHtHAbjZZ",
        "colab_type": "code",
        "colab": {
          "base_uri": "https://localhost:8080/",
          "height": 35
        },
        "outputId": "b5fd1922-d096-4f05-fb37-2fde4fbd97c2"
      },
      "cell_type": "code",
      "source": [
        "children = dom.getchildren()\n",
        "children[0]\n",
        "# children의 index 0에 해당하는 head를 출력한다."
      ],
      "execution_count": 0,
      "outputs": [
        {
          "output_type": "execute_result",
          "data": {
            "text/plain": [
              "<Element '{http://www.w3.org/1999/xhtml}head' at 0x7f4601df5098>"
            ]
          },
          "metadata": {
            "tags": []
          },
          "execution_count": 8
        }
      ]
    },
    {
      "metadata": {
        "id": "n6N5rIUXoyi9",
        "colab_type": "code",
        "colab": {
          "base_uri": "https://localhost:8080/",
          "height": 35
        },
        "outputId": "f7e055fc-1079-4c38-a0dc-435718267c42"
      },
      "cell_type": "code",
      "source": [
        "children = dom.getchildren()\n",
        "children[1]\n",
        "# children의 index 1에 해당하는 'body'를 출력한다."
      ],
      "execution_count": 0,
      "outputs": [
        {
          "output_type": "execute_result",
          "data": {
            "text/plain": [
              "<Element '{http://www.w3.org/1999/xhtml}body' at 0x7f4601e02688>"
            ]
          },
          "metadata": {
            "tags": []
          },
          "execution_count": 9
        }
      ]
    },
    {
      "metadata": {
        "id": "VVtXMYdLooNM",
        "colab_type": "code",
        "colab": {
          "base_uri": "https://localhost:8080/",
          "height": 208
        },
        "outputId": "e7c95d21-4cdc-4645-edb3-beb643f9f0a6"
      },
      "cell_type": "code",
      "source": [
        "children = dom.getchildren()\n",
        "children[2]\n",
        "# index 2에 해당하는 건 없음을 알았다."
      ],
      "execution_count": 0,
      "outputs": [
        {
          "output_type": "error",
          "ename": "IndexError",
          "evalue": "ignored",
          "traceback": [
            "\u001b[0;31m---------------------------------------------------------------------------\u001b[0m",
            "\u001b[0;31mIndexError\u001b[0m                                Traceback (most recent call last)",
            "\u001b[0;32m<ipython-input-10-efcd49f197d6>\u001b[0m in \u001b[0;36m<module>\u001b[0;34m()\u001b[0m\n\u001b[1;32m      1\u001b[0m \u001b[0mchildren\u001b[0m \u001b[0;34m=\u001b[0m \u001b[0mdom\u001b[0m\u001b[0;34m.\u001b[0m\u001b[0mgetchildren\u001b[0m\u001b[0;34m(\u001b[0m\u001b[0;34m)\u001b[0m\u001b[0;34m\u001b[0m\u001b[0m\n\u001b[0;32m----> 2\u001b[0;31m \u001b[0mchildren\u001b[0m\u001b[0;34m[\u001b[0m\u001b[0;36m2\u001b[0m\u001b[0;34m]\u001b[0m\u001b[0;34m\u001b[0m\u001b[0m\n\u001b[0m\u001b[1;32m      3\u001b[0m \u001b[0;31m# index 2에 해당하는 건 없음을 알았다.\u001b[0m\u001b[0;34m\u001b[0m\u001b[0;34m\u001b[0m\u001b[0m\n",
            "\u001b[0;31mIndexError\u001b[0m: list index out of range"
          ]
        }
      ]
    },
    {
      "metadata": {
        "id": "QcjtZfqFqaIe",
        "colab_type": "code",
        "colab": {
          "base_uri": "https://localhost:8080/",
          "height": 935
        },
        "outputId": "c2e7a0a1-c08b-4a3e-bf03-c544809abe84"
      },
      "cell_type": "code",
      "source": [
        "children[0].getchildren()\n",
        "# children의 index 0에 해당하는 children을 보여준다.\n",
        "# recurrsion relation\n",
        "# 그 결과, head 하위에는 아래와 같이 많은 element가 있음을 알았다."
      ],
      "execution_count": 0,
      "outputs": [
        {
          "output_type": "execute_result",
          "data": {
            "text/plain": [
              "[<Element '{http://www.w3.org/1999/xhtml}meta' at 0x7f4601df5188>,\n",
              " <Element '{http://www.w3.org/1999/xhtml}meta' at 0x7f4601df5228>,\n",
              " <Element '{http://www.w3.org/1999/xhtml}title' at 0x7f4601df52c8>,\n",
              " <Element '{http://www.w3.org/1999/xhtml}link' at 0x7f4601df53b8>,\n",
              " <Element '{http://www.w3.org/1999/xhtml}link' at 0x7f4601df54a8>,\n",
              " <Element '{http://www.w3.org/1999/xhtml}link' at 0x7f4601df5548>,\n",
              " <Element '{http://www.w3.org/1999/xhtml}link' at 0x7f4601df5638>,\n",
              " <Element '{http://www.w3.org/1999/xhtml}script' at 0x7f4601df56d8>,\n",
              " <Element '{http://www.w3.org/1999/xhtml}script' at 0x7f4601df5778>,\n",
              " <Element '{http://www.w3.org/1999/xhtml}script' at 0x7f4601df5868>,\n",
              " <Element '{http://www.w3.org/1999/xhtml}script' at 0x7f4601df5958>,\n",
              " <Element '{http://www.w3.org/1999/xhtml}script' at 0x7f4601df59f8>,\n",
              " <Element '{http://www.w3.org/1999/xhtml}script' at 0x7f4601df5a98>,\n",
              " <Element '{http://www.w3.org/1999/xhtml}script' at 0x7f4601df5b88>,\n",
              " <Element '{http://www.w3.org/1999/xhtml}script' at 0x7f4601df5c28>,\n",
              " <Element '{http://www.w3.org/1999/xhtml}script' at 0x7f4601df5cc8>,\n",
              " <Element '{http://www.w3.org/1999/xhtml}script' at 0x7f4601df5d68>,\n",
              " <Element '{http://www.w3.org/1999/xhtml}script' at 0x7f4601df5e58>,\n",
              " <Element '{http://www.w3.org/1999/xhtml}script' at 0x7f4601df5f48>,\n",
              " <Element '{http://www.w3.org/1999/xhtml}script' at 0x7f4601dff048>,\n",
              " <Element '{http://www.w3.org/1999/xhtml}script' at 0x7f4601dff138>,\n",
              " <Element '{http://www.w3.org/1999/xhtml}meta' at 0x7f4601dff1d8>,\n",
              " <Element '{http://www.w3.org/1999/xhtml}meta' at 0x7f4601dff278>,\n",
              " <Element '{http://www.w3.org/1999/xhtml}meta' at 0x7f4601dff318>,\n",
              " <Element '{http://www.w3.org/1999/xhtml}meta' at 0x7f4601dff3b8>,\n",
              " <Element '{http://www.w3.org/1999/xhtml}meta' at 0x7f4601dff458>,\n",
              " <Element '{http://www.w3.org/1999/xhtml}script' at 0x7f4601dff4f8>,\n",
              " <Element <function Comment at 0x7f46023ffd90> at 0x7f4601dff548>,\n",
              " <Element '{http://www.w3.org/1999/xhtml}script' at 0x7f4601dff5e8>,\n",
              " <Element '{http://www.w3.org/1999/xhtml}script' at 0x7f4601dff6d8>,\n",
              " <Element '{http://www.w3.org/1999/xhtml}script' at 0x7f4601dff7c8>,\n",
              " <Element '{http://www.w3.org/1999/xhtml}script' at 0x7f4602aea598>,\n",
              " <Element '{http://www.w3.org/1999/xhtml}script' at 0x7f4601dff908>,\n",
              " <Element '{http://www.w3.org/1999/xhtml}script' at 0x7f4601dff9a8>,\n",
              " <Element '{http://www.w3.org/1999/xhtml}script' at 0x7f4601dffa48>,\n",
              " <Element '{http://www.w3.org/1999/xhtml}script' at 0x7f4601dffae8>,\n",
              " <Element '{http://www.w3.org/1999/xhtml}script' at 0x7f4601dffbd8>,\n",
              " <Element '{http://www.w3.org/1999/xhtml}script' at 0x7f4601dffcc8>,\n",
              " <Element '{http://www.w3.org/1999/xhtml}script' at 0x7f4601dffdb8>,\n",
              " <Element '{http://www.w3.org/1999/xhtml}script' at 0x7f4601dffea8>,\n",
              " <Element '{http://www.w3.org/1999/xhtml}script' at 0x7f4601dfff98>,\n",
              " <Element '{http://www.w3.org/1999/xhtml}script' at 0x7f4601e02098>,\n",
              " <Element '{http://www.w3.org/1999/xhtml}script' at 0x7f4601e02138>,\n",
              " <Element '{http://www.w3.org/1999/xhtml}script' at 0x7f4601e021d8>,\n",
              " <Element '{http://www.w3.org/1999/xhtml}script' at 0x7f4601e02278>,\n",
              " <Element <function Comment at 0x7f46023ffd90> at 0x7f4601e02318>,\n",
              " <Element '{http://www.w3.org/1999/xhtml}script' at 0x7f4601e02368>,\n",
              " <Element '{http://www.w3.org/1999/xhtml}script' at 0x7f4601e02408>,\n",
              " <Element '{http://www.w3.org/1999/xhtml}style' at 0x7f4601e024a8>,\n",
              " <Element '{http://www.w3.org/1999/xhtml}link' at 0x7f4601e02548>,\n",
              " <Element '{http://www.w3.org/1999/xhtml}script' at 0x7f4601e025e8>]"
            ]
          },
          "metadata": {
            "tags": []
          },
          "execution_count": 11
        }
      ]
    },
    {
      "metadata": {
        "id": "7dONUtauqaT0",
        "colab_type": "code",
        "colab": {
          "base_uri": "https://localhost:8080/",
          "height": 125
        },
        "outputId": "3c5c525a-fd1c-4f66-c6b9-5ce30d6ff6af"
      },
      "cell_type": "code",
      "source": [
        "children[1].getchildren()\n",
        "# body 하위에는 아래의 element가 존재한다."
      ],
      "execution_count": 0,
      "outputs": [
        {
          "output_type": "execute_result",
          "data": {
            "text/plain": [
              "[<Element <function Comment at 0x7f46023ffd90> at 0x7f4601e026d8>,\n",
              " <Element '{http://www.w3.org/1999/xhtml}div' at 0x7f4601e02778>,\n",
              " <Element '{http://www.w3.org/1999/xhtml}div' at 0x7f4601e02bd8>,\n",
              " <Element <function Comment at 0x7f46023ffd90> at 0x7f4601e0ae08>,\n",
              " <Element '{http://www.w3.org/1999/xhtml}div' at 0x7f4601e0aea8>,\n",
              " <Element <function Comment at 0x7f46023ffd90> at 0x7f4601ccb688>]"
            ]
          },
          "metadata": {
            "tags": []
          },
          "execution_count": 12
        }
      ]
    },
    {
      "metadata": {
        "id": "EzzpH1lvqahU",
        "colab_type": "code",
        "colab": {
          "base_uri": "https://localhost:8080/",
          "height": 35
        },
        "outputId": "3ad09051-a311-4c5a-972b-d2482898c047"
      },
      "cell_type": "code",
      "source": [
        "head = children[0]\n",
        "head.getchildren()[0]\n",
        "# head의 첫번째 인덱스 0에는 meta element가 존재한다."
      ],
      "execution_count": 0,
      "outputs": [
        {
          "output_type": "execute_result",
          "data": {
            "text/plain": [
              "<Element '{http://www.w3.org/1999/xhtml}meta' at 0x7f4601df5188>"
            ]
          },
          "metadata": {
            "tags": []
          },
          "execution_count": 13
        }
      ]
    },
    {
      "metadata": {
        "id": "5LGPIaVBqaba",
        "colab_type": "code",
        "colab": {
          "base_uri": "https://localhost:8080/",
          "height": 971
        },
        "outputId": "f597cb7d-579f-44a4-ffd7-f076b5944eaf"
      },
      "cell_type": "code",
      "source": [
        "head = children[0]\n",
        "dir(head)\n",
        "# head와 함께 사용할 수 있는 것은 아래와 같다."
      ],
      "execution_count": 0,
      "outputs": [
        {
          "output_type": "execute_result",
          "data": {
            "text/plain": [
              "['__class__',\n",
              " '__copy__',\n",
              " '__deepcopy__',\n",
              " '__delattr__',\n",
              " '__delitem__',\n",
              " '__dir__',\n",
              " '__doc__',\n",
              " '__eq__',\n",
              " '__format__',\n",
              " '__ge__',\n",
              " '__getattribute__',\n",
              " '__getitem__',\n",
              " '__getstate__',\n",
              " '__gt__',\n",
              " '__hash__',\n",
              " '__init__',\n",
              " '__init_subclass__',\n",
              " '__le__',\n",
              " '__len__',\n",
              " '__lt__',\n",
              " '__ne__',\n",
              " '__new__',\n",
              " '__reduce__',\n",
              " '__reduce_ex__',\n",
              " '__repr__',\n",
              " '__setattr__',\n",
              " '__setitem__',\n",
              " '__setstate__',\n",
              " '__sizeof__',\n",
              " '__str__',\n",
              " '__subclasshook__',\n",
              " 'append',\n",
              " 'attrib',\n",
              " 'clear',\n",
              " 'extend',\n",
              " 'find',\n",
              " 'findall',\n",
              " 'findtext',\n",
              " 'get',\n",
              " 'getchildren',\n",
              " 'getiterator',\n",
              " 'insert',\n",
              " 'items',\n",
              " 'iter',\n",
              " 'iterfind',\n",
              " 'itertext',\n",
              " 'keys',\n",
              " 'makeelement',\n",
              " 'remove',\n",
              " 'set',\n",
              " 'tag',\n",
              " 'tail',\n",
              " 'text']"
            ]
          },
          "metadata": {
            "tags": []
          },
          "execution_count": 15
        }
      ]
    },
    {
      "metadata": {
        "id": "u5WwnXVZwGHf",
        "colab_type": "code",
        "colab": {}
      },
      "cell_type": "code",
      "source": [
        "title = head.getchildren()[2]\n",
        "# 제목은 head의 index 2에 있음을 확인하였다. 그렇다면 title에 담아주고, 어떤 모듈? 함수?를 쓸 수 있을지 살펴보자."
      ],
      "execution_count": 0,
      "outputs": []
    },
    {
      "metadata": {
        "id": "kZQFbzeZsOwH",
        "colab_type": "code",
        "colab": {
          "base_uri": "https://localhost:8080/",
          "height": 971
        },
        "outputId": "1213e656-5bbd-407e-d3be-49a4a613ff87"
      },
      "cell_type": "code",
      "source": [
        "dir(title)\n",
        "# title을 추출하기 위해 tag나 text를 사용할 수 있을 것 같아!"
      ],
      "execution_count": 0,
      "outputs": [
        {
          "output_type": "execute_result",
          "data": {
            "text/plain": [
              "['__class__',\n",
              " '__copy__',\n",
              " '__deepcopy__',\n",
              " '__delattr__',\n",
              " '__delitem__',\n",
              " '__dir__',\n",
              " '__doc__',\n",
              " '__eq__',\n",
              " '__format__',\n",
              " '__ge__',\n",
              " '__getattribute__',\n",
              " '__getitem__',\n",
              " '__getstate__',\n",
              " '__gt__',\n",
              " '__hash__',\n",
              " '__init__',\n",
              " '__init_subclass__',\n",
              " '__le__',\n",
              " '__len__',\n",
              " '__lt__',\n",
              " '__ne__',\n",
              " '__new__',\n",
              " '__reduce__',\n",
              " '__reduce_ex__',\n",
              " '__repr__',\n",
              " '__setattr__',\n",
              " '__setitem__',\n",
              " '__setstate__',\n",
              " '__sizeof__',\n",
              " '__str__',\n",
              " '__subclasshook__',\n",
              " 'append',\n",
              " 'attrib',\n",
              " 'clear',\n",
              " 'extend',\n",
              " 'find',\n",
              " 'findall',\n",
              " 'findtext',\n",
              " 'get',\n",
              " 'getchildren',\n",
              " 'getiterator',\n",
              " 'insert',\n",
              " 'items',\n",
              " 'iter',\n",
              " 'iterfind',\n",
              " 'itertext',\n",
              " 'keys',\n",
              " 'makeelement',\n",
              " 'remove',\n",
              " 'set',\n",
              " 'tag',\n",
              " 'tail',\n",
              " 'text']"
            ]
          },
          "metadata": {
            "tags": []
          },
          "execution_count": 15
        }
      ]
    },
    {
      "metadata": {
        "id": "XuY7zqJeyzKb",
        "colab_type": "code",
        "colab": {
          "base_uri": "https://localhost:8080/",
          "height": 35
        },
        "outputId": "5660187b-9c6e-4dbd-eaa5-7b038191184f"
      },
      "cell_type": "code",
      "source": [
        "title.tag\n",
        "# tag는 그냥 추출하는 것 인 듯 하다..."
      ],
      "execution_count": 0,
      "outputs": [
        {
          "output_type": "execute_result",
          "data": {
            "text/plain": [
              "'{http://www.w3.org/1999/xhtml}title'"
            ]
          },
          "metadata": {
            "tags": []
          },
          "execution_count": 16
        }
      ]
    },
    {
      "metadata": {
        "id": "bw401KB_y-_y",
        "colab_type": "code",
        "colab": {
          "base_uri": "https://localhost:8080/",
          "height": 35
        },
        "outputId": "49b4a0a8-e527-4fcf-b7ab-b143439244a8"
      },
      "cell_type": "code",
      "source": [
        "title.text\n",
        "# title 안에 있는 text 정보를 보니, '가톨릭대학교 서울성모병원'이 나왔다!!"
      ],
      "execution_count": 0,
      "outputs": [
        {
          "output_type": "execute_result",
          "data": {
            "text/plain": [
              "'가톨릭대학교 서울성모병원'"
            ]
          },
          "metadata": {
            "tags": []
          },
          "execution_count": 17
        }
      ]
    },
    {
      "metadata": {
        "id": "tv7z21BUIPTU",
        "colab_type": "text"
      },
      "cell_type": "markdown",
      "source": [
        "**기타 다른 것들의 기능은 무엇일지 알아보자!!**"
      ]
    },
    {
      "metadata": {
        "id": "eqEEiWpTIWyj",
        "colab_type": "text"
      },
      "cell_type": "markdown",
      "source": [
        ""
      ]
    },
    {
      "metadata": {
        "id": "_l6jinI4Jc8y",
        "colab_type": "code",
        "colab": {}
      },
      "cell_type": "code",
      "source": [
        ""
      ],
      "execution_count": 0,
      "outputs": []
    },
    {
      "metadata": {
        "id": "wDD6QSm0zKT7",
        "colab_type": "code",
        "colab": {
          "base_uri": "https://localhost:8080/",
          "height": 35
        },
        "outputId": "c829d022-211b-48b3-af06-01adb8c59312"
      },
      "cell_type": "code",
      "source": [
        "# 그런데 만약, head의 어느 index에 title이 있는지 모른다면 for문과 if문을 사용하여 찾을 수 있을 것이다.\n",
        "# i에 head의 element를 대입하고, 'title'이라는 문자열을 가지는 a를 출력하게 하자.\n",
        "\n",
        "i = dom.getchildren()[0].getchildren()\n",
        "\n",
        "for a in i:\n",
        "  if 'title' in str(a):\n",
        "   print(a.text)"
      ],
      "execution_count": 0,
      "outputs": [
        {
          "output_type": "stream",
          "text": [
            "가톨릭대학교 서울성모병원\n"
          ],
          "name": "stdout"
        }
      ]
    },
    {
      "metadata": {
        "id": "fjBoHoXTuix4",
        "colab_type": "text"
      },
      "cell_type": "markdown",
      "source": [
        "**또 어떠한 정보를 알아볼 수 있을지 잘 모르겠다...**\n",
        "\n",
        "\n",
        "결국 수업시간에 했었던 tilte만을 출력하는 것을 복습하였다.\n",
        "\n",
        "\n",
        "해보고자 했던 것은...\n",
        "\n",
        "1. 게시판의 글 업데이트 되는 것 긁어오기\n",
        "2. 사진 저장해보기\n",
        "3. 특정 키워드를 보함하는 공지사항 찾아보기\n",
        "4. head 안에서 title을 제외한 meta 및 script가 의미하는 것이 무엇인지 알아보기\n",
        "5. dir(dom)을 입력했을 때 나오는 함수들의 기능 살펴보기\n",
        "\n",
        "등등\n",
        "꼭 해보자...! (다짐과 반성)"
      ]
    },
    {
      "metadata": {
        "id": "LhHE-28Ee_Pe",
        "colab_type": "text"
      },
      "cell_type": "markdown",
      "source": [
        "# "
      ]
    }
  ]
}